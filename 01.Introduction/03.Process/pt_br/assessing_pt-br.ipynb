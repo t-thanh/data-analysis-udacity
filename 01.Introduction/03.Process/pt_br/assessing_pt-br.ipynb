{
 "cells": [
  {
   "cell_type": "markdown",
   "metadata": {},
   "source": [
    "# Avaliando e desenvolvendo intuição\n",
    "Uma vez que você tiver seus dados carregados em dataframes, o Pandas faz com que uma investigação rápida dos dados seja bem simples. Vamos explorar alguns métodos úteis para avaliar e desenvolver intuição sobre um conjunto de dados. Podemos usar os dados sobre câncer que vimos anteriormente para nos ajudar."
   ]
  },
  {
   "cell_type": "code",
   "execution_count": null,
   "metadata": {},
   "outputs": [],
   "source": [
    "import pandas as pd\n",
    "\n",
    "df = pd.read_csv('cancer_data.csv')\n",
    "df.head()"
   ]
  },
  {
   "cell_type": "code",
   "execution_count": null,
   "metadata": {},
   "outputs": [],
   "source": [
    "# isto retorna uma tupla com as mesmas dimensões do dataframe\n",
    "df.shape"
   ]
  },
  {
   "cell_type": "code",
   "execution_count": null,
   "metadata": {
    "collapsed": true
   },
   "outputs": [],
   "source": [
    "# isto retorna os tipos de dados das colunas\n",
    "df.dtypes"
   ]
  },
  {
   "cell_type": "code",
   "execution_count": null,
   "metadata": {
    "collapsed": true
   },
   "outputs": [],
   "source": [
    "# embora o tipo de dados da coluna 'diagnosis' pareça ser 'object', \n",
    "# uma investigação mais profunda revela que se trata de uma string\n",
    "type(df['diagnosis'][0])"
   ]
  },
  {
   "cell_type": "markdown",
   "metadata": {},
   "source": [
    "O pandas na verdade armazena [ponteiros](https://en.wikipedia.org/wiki/Pointer_(computer_programming) para strings em dataframes e séries, e é por isso que o tipo de dados aparece como `object` ao invés de `str`. Entender este detalhe não é essencial para análise de dados - apenas saiba que strings irão aparecer como objetos no Pandas."
   ]
  },
  {
   "cell_type": "code",
   "execution_count": null,
   "metadata": {
    "collapsed": true
   },
   "outputs": [],
   "source": [
    "# isto exibe um resumo conciso do dataframe,\n",
    "# incluindo o número de valores não-nulos em cada coluna\n",
    "df.info()"
   ]
  },
  {
   "cell_type": "code",
   "execution_count": null,
   "metadata": {
    "collapsed": true
   },
   "outputs": [],
   "source": [
    "# isto retorna o número de valores únicos em cada coluna\n",
    "df.nunique()"
   ]
  },
  {
   "cell_type": "code",
   "execution_count": null,
   "metadata": {
    "collapsed": true
   },
   "outputs": [],
   "source": [
    "# isto retorna estatísticas descritivas úteis para cada coluna de dados\n",
    "df.describe()"
   ]
  },
  {
   "cell_type": "code",
   "execution_count": null,
   "metadata": {
    "collapsed": true
   },
   "outputs": [],
   "source": [
    "# isto retorna as primeiras linhas do nosso dataframe\n",
    "# como padrão, retorna as primeiras cinco linhas\n",
    "df.head()"
   ]
  },
  {
   "cell_type": "code",
   "execution_count": null,
   "metadata": {
    "collapsed": true
   },
   "outputs": [],
   "source": [
    "# embora você possa especificar quantas linhas você gostaria que fossem retornadas\n",
    "df.head(20)"
   ]
  },
  {
   "cell_type": "code",
   "execution_count": null,
   "metadata": {
    "collapsed": true
   },
   "outputs": [],
   "source": [
    "# isso também se aplicar ao comando `.tail()` que retorna as últimas linhas do dataframe\n",
    "df.tail(2)"
   ]
  },
  {
   "cell_type": "markdown",
   "metadata": {},
   "source": [
    "## Indexando e selecionando dados no Pandas\n",
    "Vamos separar este dataframe em três novos dataframes - um para cada métrica (média, desvio padrão e máximo). Para obter os dados para cada dataframe, precisamos selecionar as colunas `id` e `diagnosis`, bem como as dez colunas correspondentes àquela métrica."
   ]
  },
  {
   "cell_type": "code",
   "execution_count": null,
   "metadata": {
    "collapsed": true
   },
   "outputs": [],
   "source": [
    "# Exibir o índice e rótulo de cada coluna\n",
    "for i, v in enumerate(df.columns):\n",
    "    print(i, v)"
   ]
  },
  {
   "cell_type": "markdown",
   "metadata": {},
   "source": [
    "Podemos selecionar dados usando `loc` e `iloc`, cujos detalhes podem ser lidos na [documentação oficial](https://pandas.pydata.org/pandas-docs/stable/indexing.html). `loc` usa rótulos de linhas ou colunas para selecionar dados, enquanto `iloc` usa índices. Vamos usar estes para indexar o dataframe abaixo."
   ]
  },
  {
   "cell_type": "code",
   "execution_count": null,
   "metadata": {
    "collapsed": true
   },
   "outputs": [],
   "source": [
    "# selecionar todas as colunas desde 'id' até a última coluna relacionada à média\n",
    "df_means = df.loc[:,'id':'fractal_dimension_mean']\n",
    "df_means.head()"
   ]
  },
  {
   "cell_type": "code",
   "execution_count": null,
   "metadata": {
    "collapsed": true
   },
   "outputs": [],
   "source": [
    "# repita o passo acima usando índices\n",
    "df_means = df.iloc[:,:11]\n",
    "df_means.head()"
   ]
  },
  {
   "cell_type": "markdown",
   "metadata": {
    "collapsed": true
   },
   "source": [
    "Vamos salvar o dataframe de médias para mais tarde."
   ]
  },
  {
   "cell_type": "code",
   "execution_count": null,
   "metadata": {
    "collapsed": true
   },
   "outputs": [],
   "source": [
    "df_means.to_csv('cancer_data_means.csv', index=False)"
   ]
  },
  {
   "cell_type": "markdown",
   "metadata": {},
   "source": [
    "### Selecionando múltiplos intervalos no Pandas\n",
    "Selecionar as colunas para o dataframe de médias foi bem direto - as colunas que precisávamos selecionar estavam todas juntas (`id`, `diagnosis` e as colunas relacionadas à média). Agora temos um pequeno problema quando tentamos fazer o mesmo para desvio padrão ou valores máximos. `id` e `diagnosis` estão separados do restante das colunas de que precisamos! Não conseguimos especificar todas estas em um só intervalo.\n",
    "\n",
    "Primeiro tente criar o dataframe de desvios padrão por conta própria, para entender por que fazer isto usando apenas `loc` e `iloc` não é possível. Então, use este [link do stackoverflow](https://stackoverflow.com/questions/41256648/select-multiple-ranges-of-columns-in-pandas-dataframe) para aprender como selecionar múltiplos intervalos no Pandas e tente fazê-lo abaixo. A propósito, para descobrir como fazer isso por conta própria, eu encontrei esse link googlando \"how to select multiple ranges df.iloc\".\n",
    "\n",
    "*Dica: Talvez você tenha que importar um novo pacote!*"
   ]
  },
  {
   "cell_type": "code",
   "execution_count": null,
   "metadata": {
    "collapsed": true
   },
   "outputs": [],
   "source": [
    "# import\n",
    "\n",
    "\n",
    "# criar o dataframe de desvios padrão\n",
    "\n",
    "\n",
    "# exiba as primeiras linhas para confirmar que a operação foi bem sucedida\n"
   ]
  }
 ],
 "metadata": {
  "kernelspec": {
   "display_name": "Python 3",
   "language": "python",
   "name": "python3"
  },
  "language_info": {
   "codemirror_mode": {
    "name": "ipython",
    "version": 3
   },
   "file_extension": ".py",
   "mimetype": "text/x-python",
   "name": "python",
   "nbconvert_exporter": "python",
   "pygments_lexer": "ipython3",
   "version": "3.6.3"
  }
 },
 "nbformat": 4,
 "nbformat_minor": 2
}
