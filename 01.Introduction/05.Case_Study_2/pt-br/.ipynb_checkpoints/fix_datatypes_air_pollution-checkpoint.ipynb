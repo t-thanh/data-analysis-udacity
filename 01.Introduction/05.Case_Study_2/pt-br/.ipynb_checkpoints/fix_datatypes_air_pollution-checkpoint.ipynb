{
 "cells": [
  {
   "cell_type": "markdown",
   "metadata": {},
   "source": [
    "# Corrigindo o tipo de dados de `air_pollution_score`\n",
    "- 2008: converta de string para float\n",
    "- 2018: converta de int para float"
   ]
  },
  {
   "cell_type": "code",
   "execution_count": null,
   "metadata": {
    "collapsed": true
   },
   "outputs": [],
   "source": [
    "# carregue os conjuntos de dados\n",
    "\n",
    "df_08 = \n",
    "df_18 = "
   ]
  },
  {
   "cell_type": "code",
   "execution_count": null,
   "metadata": {
    "collapsed": true
   },
   "outputs": [],
   "source": [
    "# tente usar as funções to_numeric ou astype do Pandas para converter a coluna\n",
    "# air_pollution_score do conjunto de dados de 2008 para float -- isso não vai funcionar\n"
   ]
  },
  {
   "cell_type": "markdown",
   "metadata": {},
   "source": [
    "# Resolvendo a questão\n",
    "Parece que isso não vai ser tão simples quanto converter o tipo de dados. Segundo o erro abaixo, o valor na linha 582 seria \"6/4\" - vamos dar uma olhada."
   ]
  },
  {
   "cell_type": "code",
   "execution_count": null,
   "metadata": {
    "collapsed": true
   },
   "outputs": [],
   "source": [
    "df_08.iloc[582]"
   ]
  },
  {
   "cell_type": "markdown",
   "metadata": {},
   "source": [
    "# Não é só o nível de poluição do ar!\n",
    "As colunas mpg e os nível de gases de efeito estufa também parecem ter o mesmo problema - talvez seja por isso que todos eles foram salvos como strings! Segundo [este link](http://www.fueleconomy.gov/feg/findacarhelp.shtml#airPollutionScore), que eu encontrei na documentação em PDF:\n",
    "\n",
    "    \"Se um veículo pode operar com mais de um tipo de combustível, uma estimativa é fornecida para cada tipo de combustível.\"\n",
    "    \n",
    "Ahh.. então todos veículos com mais de um tipo de combustível, ou híbridos, como aquele visto acima (que usa etanol E gás) terão uma string que armazena dois valores - um para cada. Isto é um pouco complicado, então eu vou mostrar como fazê-lo com o conjunto de dados de 2008, para você então tentar fazer o mesmo com o conjunto de dados de 2018."
   ]
  },
  {
   "cell_type": "code",
   "execution_count": null,
   "metadata": {
    "collapsed": true
   },
   "outputs": [],
   "source": [
    "# Primeiro, vamos obter todos os híbridos de 2008\n",
    "hb_08 = df_08[df_08['fuel'].str.contains('/')]\n",
    "hb_08"
   ]
  },
  {
   "cell_type": "markdown",
   "metadata": {},
   "source": [
    "Parece que este conjunto de dados só tem um! O de 2018 tem MUITOS mais - mas não se preocupe - os passos que eu estou fazendo aqui vão funcionar para este também!"
   ]
  },
  {
   "cell_type": "code",
   "execution_count": null,
   "metadata": {},
   "outputs": [],
   "source": [
    "# híbridos em 2018\n",
    "hb_18 = df_18[df_18['fuel'].str.contains('/')]\n",
    "hb_18"
   ]
  },
  {
   "cell_type": "markdown",
   "metadata": {},
   "source": [
    "Vamos pegar cada linha que contém um carro híbrido e dividí-la em duas novas linhas - uma com os valores do primeiro tipo de combustível (valores antes da \"/\") e outra com os valores do segundo tipo de combustível (valores depois da \"/\"). Vamos separá-los com dois dataframes!"
   ]
  },
  {
   "cell_type": "code",
   "execution_count": null,
   "metadata": {
    "collapsed": true
   },
   "outputs": [],
   "source": [
    "# crie duas cópias do dataframe com híbridos de 2008\n",
    "df1 = hb_08.copy()  # data on first fuel type of each hybrid vehicle\n",
    "df2 = hb_08.copy()  # data on second fuel type of each hybrid vehicle\n",
    "\n",
    "# Cada um deve se parecer com isto\n",
    "df1"
   ]
  },
  {
   "cell_type": "markdown",
   "metadata": {},
   "source": [
    "Para a próxima parte, vamos usar a função apply do Pandas. Veja a documentação [aqui](https://pandas.pydata.org/pandas-docs/stable/generated/pandas.DataFrame.apply.html)."
   ]
  },
  {
   "cell_type": "code",
   "execution_count": null,
   "metadata": {
    "collapsed": true
   },
   "outputs": [],
   "source": [
    "# colunas que devem ser divididas por \"/\"\n",
    "split_columns = ['fuel', 'air_pollution_score', 'city_mpg', 'hwy_mpg', 'cmb_mpg', 'greenhouse_gas_score']\n",
    "\n",
    "# aplique a função split para cada coluna de cada cópia do dataframe\n",
    "for c in split_columns:\n",
    "    df1[c] = df1[c].apply(lambda x: x.split(\"/\")[0])\n",
    "    df2[c] = df2[c].apply(lambda x: x.split(\"/\")[1])"
   ]
  },
  {
   "cell_type": "code",
   "execution_count": null,
   "metadata": {
    "collapsed": true
   },
   "outputs": [],
   "source": [
    "# este dataframe armazena informações sobre o PRIMEIRO tipo de combustível do híbrido\n",
    "# i.e. os valores antes das \"/\"s\n",
    "df1"
   ]
  },
  {
   "cell_type": "code",
   "execution_count": null,
   "metadata": {
    "collapsed": true
   },
   "outputs": [],
   "source": [
    "# este dataframe armazena informações sobre o SEGUNDO tipo de combustível do híbrido\n",
    "# i.e. os valores depois das \"/\"s\n",
    "df2"
   ]
  },
  {
   "cell_type": "code",
   "execution_count": null,
   "metadata": {
    "collapsed": true
   },
   "outputs": [],
   "source": [
    "# combine dataframes para adicionar ao dataframe original\n",
    "new_rows = df1.append(df2)\n",
    "\n",
    "# agora temos linhas separadas para cada tipo de combustível de cada veículo!\n",
    "new_rows"
   ]
  },
  {
   "cell_type": "code",
   "execution_count": null,
   "metadata": {
    "collapsed": true,
    "scrolled": true
   },
   "outputs": [],
   "source": [
    "# descarte as linhas originais que continham híbridos\n",
    "df_08.drop(hb_08.index, inplace=True)\n",
    "\n",
    "# adicione as novas linhas separadas\n",
    "df_08 = df_08.append(new_rows, ignore_index=True)"
   ]
  },
  {
   "cell_type": "code",
   "execution_count": null,
   "metadata": {
    "collapsed": true
   },
   "outputs": [],
   "source": [
    "# verifique se todas linhas originais com híbridos, que continham \"/\"s, sumiram\n",
    "df_08[df_08['fuel'].str.contains('/')]"
   ]
  },
  {
   "cell_type": "code",
   "execution_count": null,
   "metadata": {
    "collapsed": true
   },
   "outputs": [],
   "source": [
    "df_08.shape"
   ]
  },
  {
   "cell_type": "markdown",
   "metadata": {},
   "source": [
    "# Repita este processo para o conjunto de dados de 2018"
   ]
  },
  {
   "cell_type": "code",
   "execution_count": null,
   "metadata": {
    "collapsed": true
   },
   "outputs": [],
   "source": [
    "# crie duas cópias do dataframe com híbridos de 2018, hb_18\n",
    "df1 = \n",
    "df2 = "
   ]
  },
  {
   "cell_type": "markdown",
   "metadata": {},
   "source": [
    "### Divida valores para `fuel`, `city_mpg`, `hwy_mpg`, `cmb_mpg`\n",
    "Você não precisa dividir as colunas `air_pollution_score` ou `greenhouse_gas_score` aqui porque estas colunas já são ints no conjunto de dados de 2018."
   ]
  },
  {
   "cell_type": "code",
   "execution_count": null,
   "metadata": {
    "collapsed": true
   },
   "outputs": [],
   "source": [
    "# lista de colunas que devem ser divididas\n",
    "split_columns = \n",
    "\n",
    "# aplique a função split para cada coluna de cada cópia do dataframe\n",
    "for c in split_columns:\n",
    "    df1[c] = \n",
    "    df2[c] = "
   ]
  },
  {
   "cell_type": "code",
   "execution_count": null,
   "metadata": {
    "collapsed": true
   },
   "outputs": [],
   "source": [
    "# combine os dois dataframes\n",
    "new_rows = \n",
    "\n",
    "# descarte cada linha original que continha híbridos no dataframe original de 2018\n",
    "# faça isso usando a função drop do Pandas com o índice do hb_18\n",
    "df_18.drop(hb_18.index, inplace=True)\n",
    "\n",
    "# anexe new_rows a df_18\n",
    "df_18 = "
   ]
  },
  {
   "cell_type": "code",
   "execution_count": null,
   "metadata": {
    "collapsed": true
   },
   "outputs": [],
   "source": [
    "# verifique se elas sumiram\n",
    "df_18[df_18['fuel'].str.contains('/')]"
   ]
  },
  {
   "cell_type": "code",
   "execution_count": null,
   "metadata": {
    "collapsed": true
   },
   "outputs": [],
   "source": [
    "df_18.shape"
   ]
  },
  {
   "cell_type": "markdown",
   "metadata": {},
   "source": [
    "### Agora podemos confortavelmente continuar as mudanças necessárias para `air_pollution_score`! Aqui vão elas novamente:\n",
    "- 2008: converta de string para float\n",
    "- 2018: converta de int para float"
   ]
  },
  {
   "cell_type": "code",
   "execution_count": null,
   "metadata": {
    "collapsed": true
   },
   "outputs": [],
   "source": [
    "# converta a coluna de poluição do ar de 2008 de string para float\n"
   ]
  },
  {
   "cell_type": "code",
   "execution_count": null,
   "metadata": {
    "collapsed": true
   },
   "outputs": [],
   "source": [
    "# converta a coluna de poluição do ar de 2018 de int to float\n"
   ]
  },
  {
   "cell_type": "code",
   "execution_count": null,
   "metadata": {
    "collapsed": true
   },
   "outputs": [],
   "source": [
    "df_08.to_csv('data_08.csv', index=False)\n",
    "df_18.to_csv('data_18.csv', index=False)"
   ]
  }
 ],
 "metadata": {
  "kernelspec": {
   "display_name": "Python 3",
   "language": "python",
   "name": "python3"
  },
  "language_info": {
   "codemirror_mode": {
    "name": "ipython",
    "version": 3
   },
   "file_extension": ".py",
   "mimetype": "text/x-python",
   "name": "python",
   "nbconvert_exporter": "python",
   "pygments_lexer": "ipython3",
   "version": "3.6.1"
  }
 },
 "nbformat": 4,
 "nbformat_minor": 2
}
