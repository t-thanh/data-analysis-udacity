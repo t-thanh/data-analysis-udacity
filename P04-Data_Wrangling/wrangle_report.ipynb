{
 "cells": [
  {
   "cell_type": "markdown",
   "metadata": {},
   "source": [
    "# Project 04: Data Wrangling: WeRateDogs Tweets Archive"
   ]
  },
  {
   "cell_type": "markdown",
   "metadata": {},
   "source": [
    "## Gather Data\n",
    "\n",
    "Data is gather from 3 resources and saved as 3 dataframes.\n",
    "\n",
    "### Gather data from `twitter-archive-enhanced.csv`\n",
    "Use `pd.read_csv()` to read data from existing file `twitter-archive-enhanced.csv` and save it as `data1."
   ]
  },
  {
   "cell_type": "markdown",
   "metadata": {},
   "source": [
    "### Gather data by download `image_prediction.tsv` using `Requests` library"
   ]
  },
  {
   "cell_type": "markdown",
   "metadata": {},
   "source": [
    "### Gather data from twitter API using Tweepy library\n",
    "\n",
    "Using tweepy API to save each tweet's return JSON as a new line in a `.txt` file.\n",
    "\n",
    "Read the `txt` file and get `retweet_count` and `favorite_count` to store in data3"
   ]
  },
  {
   "cell_type": "markdown",
   "metadata": {},
   "source": [
    "## Assessing Data"
   ]
  },
  {
   "cell_type": "markdown",
   "metadata": {},
   "source": [
    "### Overview:\n",
    "\n",
    "`data1` (Twitter archive) columns:\n",
    "\n",
    "- **tweet_id**: unique id for each tweet\n",
    "\n",
    "- **in_reply_to_status_id**: if the represented Tweet is a reply, this field will contain the original Tweet’s ID\n",
    "\n",
    "- **in_reply_to_user_id**: if the represented Tweet is a reply, this field will contain the integer representation of the original Tweet’s author ID\n",
    "\n",
    "- **timestamp**: time when this Tweet was created\n",
    "\n",
    "- **source**: utility used to post the Tweet, as an HTML-formatted string. e.g. Twitter for Android, Twitter for iPhone, Twitter Web Client\n",
    "\n",
    "- **text**: actual UTF-8 text of the status update\n",
    "\n",
    "- **retweeted_status_id**: if the represented Tweet is a retweet, this field will contain the integer representation of the original Tweet’s ID\n",
    "\n",
    "- **retweeted_status_user_id**: if the represented Tweet is a retweet, this field will contain the integer representation of the original Tweet’s author ID\n",
    "\n",
    "- **retweeted_status_timestamp**: time of retweet\n",
    "\n",
    "- **expanded_urls**: tweet URL\n",
    "\n",
    "- **rating_numerator**: numerator of the rating of a dog. Note: ratings almost always greater than 10\n",
    "\n",
    "- **rating_denominator**: denominator of the rating of a dog. Note: ratings almost always have a denominator of 10\n",
    "\n",
    "- **name**: name of the dog\n",
    "\n",
    "- **doggo**: one of the 4 dog \"stage\"\n",
    "\n",
    "- **floofer**: one of the 4 dog \"stage\"\n",
    "\n",
    "- **pupper**: one of the 4 dog \"stage\"\n",
    "\n",
    "- **puppo**: one of the 4 dog \"stage\""
   ]
  },
  {
   "cell_type": "markdown",
   "metadata": {},
   "source": [
    "`data2` (tweet image predictions) columns:\n",
    "\n",
    "- **tweet_id**: the unique identifier for each tweet\n",
    "\n",
    "- **jpg_url**: dog's image URL\n",
    "\n",
    "- **img_num**: the image number that corresponded to the most confident prediction (numbered 1 to 4 since tweets can have up to four images)\n",
    "\n",
    "- **p1**: algorithm's #1 prediction for the image in the tweet\n",
    "\n",
    "- **p1_conf**: how confident the algorithm is in its #1 prediction\n",
    "\n",
    "- **p1_dog**: whether or not the #1 prediction is a breed of dog\n",
    "\n",
    "- **p2**: algorithm's #2 prediction for the image in the tweet\n",
    "\n",
    "- **p2_conf**: how confident the algorithm is in its #2 prediction\n",
    "\n",
    "- **p2_dog**: whether or not the #2 prediction is a breed of dog\n",
    "\n",
    "- **p3**: algorithm's #3 prediction for the image in the tweet\n",
    "\n",
    "- **p3_conf**: how confident the algorithm is in its #3 prediction\n",
    "\n",
    "- **p3_dog**: whether or not the #3 prediction is a breed of dog"
   ]
  },
  {
   "cell_type": "markdown",
   "metadata": {},
   "source": [
    "`data3` (tweet status) columns:\n",
    "\n",
    "- **id**: the unique identifier for each tweet\n",
    "\n",
    "- **retweet_count**: number of times this Tweet has been retweeted\n",
    "\n",
    "- **favorite_count**: indicates approximately how many times this Tweet has been liked by Twitter users\n"
   ]
  },
  {
   "cell_type": "markdown",
   "metadata": {},
   "source": [
    "### Quality\n",
    "\n",
    "- In data1,the tweet_ID is not the right data type and value.\n",
    "- Some wrong datatypes and values for in_reply_to_status_id, in_reply_to_user_id\n",
    "- In data1, we only want original ratings (not the retweets).\n",
    "- We only want ratings with images. Not all ratings have images.\n",
    "- In data1, some ratings are wrong.\n",
    "- In data1, some NOK datatype for timestamp\n",
    "- In data1, nulls represented as 'None' in columns 'name', 'doggo', 'floofer', 'pupper','puppo'.\n",
    "- In data1, some dog names are not correct.\n",
    "- In data2, some predictions are not dogs, there is no column for the most possible breed of a dog.\n",
    "\n",
    "### Tidiness\n",
    "\n",
    "- In data1, the columns 'retweeted_status_id' 'retweeted_status_user_id' and 'retweeted_status_timestamp' are not useful after removing retweets.\n",
    "- In data1, the columns 'doggo', 'floofer', 'pupper','puppo' show one variable.\n",
    "- data3 should be part of data1.\n",
    "- rating_numerator and denominator should be one variable rating."
   ]
  },
  {
   "cell_type": "markdown",
   "metadata": {},
   "source": [
    "## Cleaning Data"
   ]
  },
  {
   "cell_type": "markdown",
   "metadata": {},
   "source": [
    "### Issue 1: \n",
    "In data1, the columns 'retweeted_status_id' 'retweeted_status_user_id' and 'retweeted_status_timestamp' are not useful after removing retweets.\n",
    "\n",
    "- Define: \n",
    "\n",
    "Remove all retweets and observations without ID, the remove columns: 'retweeted_status_id', 'retweeted_status_user_id', 'retweeted_status_timestamp'"
   ]
  },
  {
   "cell_type": "markdown",
   "metadata": {},
   "source": [
    "### Issue 2: \n",
    "Rating without image must be removed\n",
    "\n",
    "- Define:\n",
    "\n",
    "Remove observation without images\n"
   ]
  },
  {
   "cell_type": "markdown",
   "metadata": {},
   "source": [
    "### Issue 3:\n",
    "4 Columns 'doggo', 'floofer', 'pupper', 'puppo' mean the same. No value represented as word 'None' in columns 'name', 'doggo', 'floofer', 'pupper','puppo'.\n",
    "- Define:\n",
    "\n",
    "Create column 'stage' to show dog stage, drop columns 'doggo','floofer','pupper','puppo'. Replace 'None' with np.nan."
   ]
  },
  {
   "cell_type": "markdown",
   "metadata": {},
   "source": [
    "### Issue 4:\n",
    "data3 must be part of data1\n",
    "- Define:\n",
    "\n",
    "Merge content of data3 into data1, on tweet_id"
   ]
  },
  {
   "cell_type": "markdown",
   "metadata": {},
   "source": [
    "### Issue 5:\n",
    "Missing retweet_count and favorite_count \n",
    "- Define:\n",
    "\n",
    "Drop the rows with missing value"
   ]
  },
  {
   "cell_type": "markdown",
   "metadata": {},
   "source": [
    "### Issue 6:\n",
    "In data1, wrong datatype for timestamp\n",
    "- Define:\n",
    "\n",
    "Convert timestamp to datetime data type"
   ]
  },
  {
   "cell_type": "markdown",
   "metadata": {},
   "source": [
    "### Issue 7:\n",
    "NOK  datatypes and values for in_reply_to_status_id, in_reply_to_user_id\n",
    "- Define:\n",
    "\n",
    "convert in_reply_to_status_id, in_reply_to_user_id to string data type."
   ]
  },
  {
   "cell_type": "markdown",
   "metadata": {},
   "source": [
    "### Issue 8:\n",
    "Issue with 'name' column: no value as 'None', some values are wrong, not capitalized name are wrong\n",
    "- Define:\n",
    "\n",
    "Set the value wrong names to 'None' and replace 'None' with np.nan."
   ]
  },
  {
   "cell_type": "markdown",
   "metadata": {},
   "source": [
    "### Issue 9:\n",
    "- In data1, some ratings are wrong.\n",
    "- Rating_numerator and denominator should be one variable rating.\n",
    "\n",
    "- **Define:**\n",
    "\n",
    "- Create new column rating = rating_numerator/rating_denominator. \n",
    "- Drop rating_numerator and rating_denominator.\n",
    "- Drop oberservations with extreme ratings."
   ]
  },
  {
   "cell_type": "markdown",
   "metadata": {},
   "source": [
    "### Issue 10:\n",
    "In data2, some predictions are not dogs, there is no column for the most possible breed of a dog and the confidence.\n",
    "- Define:\n",
    "\n",
    "Create new columns `predicted_breed` and `predicted_conf` for the most possible breed of a dog and the confidence."
   ]
  },
  {
   "cell_type": "markdown",
   "metadata": {},
   "source": [
    "## Store Data\n",
    "\n",
    "Store the clean `df1_clean` in a CSV file named `twitter_archive_master.csv` and `df2_clean` in additional file `twitter_image_predictions.csv`."
   ]
  },
  {
   "cell_type": "code",
   "execution_count": null,
   "metadata": {},
   "outputs": [],
   "source": []
  }
 ],
 "metadata": {
  "kernelspec": {
   "display_name": "Python 3",
   "language": "python",
   "name": "python3"
  },
  "language_info": {
   "codemirror_mode": {
    "name": "ipython",
    "version": 3
   },
   "file_extension": ".py",
   "mimetype": "text/x-python",
   "name": "python",
   "nbconvert_exporter": "python",
   "pygments_lexer": "ipython3",
   "version": "3.6.9"
  }
 },
 "nbformat": 4,
 "nbformat_minor": 4
}
