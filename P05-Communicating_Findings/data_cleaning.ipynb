{
 "cells": [
  {
   "cell_type": "markdown",
   "metadata": {},
   "source": [
    "# Cleaning Data Set: PISA 2012"
   ]
  },
  {
   "cell_type": "markdown",
   "metadata": {},
   "source": [
    "### Loading necessary libraries"
   ]
  },
  {
   "cell_type": "code",
   "execution_count": 1,
   "metadata": {},
   "outputs": [],
   "source": [
    "import numpy as np\n",
    "import pandas as pd"
   ]
  },
  {
   "cell_type": "markdown",
   "metadata": {},
   "source": [
    "### Loading dataset"
   ]
  },
  {
   "cell_type": "code",
   "execution_count": null,
   "metadata": {},
   "outputs": [],
   "source": [
    "pisa=pd.read_csv('pisa2012.csv', encoding='latin-1', low_memory = False)\n",
    "pisa.head()"
   ]
  },
  {
   "cell_type": "code",
   "execution_count": null,
   "metadata": {},
   "outputs": [],
   "source": [
    "pisa.shape"
   ]
  },
  {
   "cell_type": "markdown",
   "metadata": {},
   "source": [
    "### What is the structure of your dataset?\n",
    "\n",
    "The data set contains 635 features and 485490 student survey results. \n",
    "\n",
    "### What is/are the main feature(s) of interest in your dataset?\n",
    "\n",
    "I'm interested to know what feature impact the score of the student in math, reading and science.\n",
    "\n",
    "### What features in the dataset do you think will help support your investigation into your feature(s) of interest?\n",
    "\n",
    "The scores value for mathematic, reading and science.\n",
    "\n",
    "I would like to investigate the influence of parent, country, gender on the scores. \n",
    "\n",
    "Being an immigrant myself, I would like to consider the immigrant feature and it effect on the PISA score."
   ]
  },
  {
   "cell_type": "code",
   "execution_count": null,
   "metadata": {},
   "outputs": [],
   "source": [
    "# limit the dataset to the columns we actually need to answer our questions\n",
    "pisa = pisa[['STIDSTD','ST04Q01','CNT','PV1MATH','PV1READ','PV1SCIE','ST11Q01','ST11Q02','ST57Q05','HISCED','IMMIG']]\n",
    "pisa.rename({'STIDSTD':'Student_Id', 'ST04Q01':'Gender','CNT':'Country', \n",
    "             'PV1MATH':'Math_Score', 'PV1READ':\"Reading_Score\",'PV1SCIE':'Science_Score',\n",
    "             'ST11Q01':'Mother_Present', 'ST11Q02':'Father Present', 'ST57Q05':'Study_Time_With_Parent',\n",
    "             'HISCED':'Parents_Highest_Education', 'IMMIG':'Immigration_Status'\n",
    "            }, \n",
    "            axis='columns', inplace=True)\n",
    "pisa.head()"
   ]
  },
  {
   "cell_type": "code",
   "execution_count": null,
   "metadata": {},
   "outputs": [],
   "source": [
    "pisa.info()"
   ]
  },
  {
   "cell_type": "code",
   "execution_count": null,
   "metadata": {},
   "outputs": [],
   "source": [
    "# save to a file so don't need to load the huge file again\n",
    "pisa.to_csv('pisa2012_reduce.csv', index_label=False)"
   ]
  },
  {
   "cell_type": "markdown",
   "metadata": {},
   "source": [
    "### Data assessment"
   ]
  },
  {
   "cell_type": "code",
   "execution_count": null,
   "metadata": {},
   "outputs": [],
   "source": [
    "for col in pisa.columns: \n",
    "    print('{} contains {} null value'.format(col, pisa[col].isna().sum())) "
   ]
  },
  {
   "cell_type": "code",
   "execution_count": null,
   "metadata": {},
   "outputs": [],
   "source": [
    "# Drop the null value from rows\n",
    "pisa_clean = pisa.dropna(subset=['Mother_Present', 'Father_Present', 'Study_Time_With_Parent', 'Parents_Highest_Education', 'Immigration_Status'])\n",
    "pisa_clean.shape"
   ]
  },
  {
   "cell_type": "code",
   "execution_count": null,
   "metadata": {},
   "outputs": [],
   "source": [
    "# Merge Mother and Father present into one feature Parent Presence\n",
    "pisa_clean['Parents_Presence'] = ((pisa_clean['Mother_Present'] == 'No') | (pisa_clean['Father_Present'] == 'No')).replace(False, 'Both').replace(True, 'Single')\n",
    "pisa_clean = pisa_clean.drop(['Mother_Present','Father_Present'], axis=1)\n",
    "pisa_clean.head()"
   ]
  },
  {
   "cell_type": "code",
   "execution_count": null,
   "metadata": {},
   "outputs": [],
   "source": [
    "# Make a new feature Overall Score\n",
    "pisa_clean['Overall_Score'] = (pisa_clean['Math_Score'] + pisa_clean['Reading_Score'] + pisa_clean['Science_Score']) / 3\n",
    "pisa_clean.head()"
   ]
  },
  {
   "cell_type": "markdown",
   "metadata": {},
   "source": [
    "#### Fix issues about datatypes\n",
    "- StudyTimeWithParent should be int64\n",
    "- Gender, ParentsHighestEducation and ImmigrationStatus should be categoral"
   ]
  },
  {
   "cell_type": "code",
   "execution_count": null,
   "metadata": {},
   "outputs": [],
   "source": [
    "pisa_clean.loc[:,'Study_Time_With_Parent'] = pisa_clean['Study_Time_With_Parent'].astype('int64')\n",
    "\n",
    "gender_dtype = pd.api.types.CategoricalDtype(categories=['Female','Male'])\n",
    "pisa_clean.loc[:,'Gender'] = pisa_clean.Gender.astype(gender_dtype)\n",
    "\n",
    "parents_presence_dtype = pd.api.types.CategoricalDtype(categories=['Both','Single'])\n",
    "pisa_clean.loc[:,'Parents_Presence'] = pisa_clean['Parents_Presence'].astype(parents_presence_dtype)\n",
    "\n",
    "parentHE_dtype = pd.api.types.CategoricalDtype(\n",
    "                    categories=['None','ISCED 1','ISCED 2','ISCED 3B, C','ISCED 3A, ISCED 4','ISCED 5B','ISCED 5A, 6'],\n",
    "                    ordered=True)\n",
    "pisa_clean.loc[:,'Parents_Highest_Education'] = pisa_clean['Parents_Highest_Education'].astype(parentHE_dtype)\n",
    "\n",
    "immig_dtype = pd.api.types.CategoricalDtype(categories=['Native','Second-Generation','First-Generation'], ordered=True)\n",
    "pisa_clean.loc[:,'Immigration_Status'] = pisa_clean['Immigration_Status'].astype(immig_dtype)\n",
    "\n",
    "pisa_clean.dtypes"
   ]
  },
  {
   "cell_type": "code",
   "execution_count": null,
   "metadata": {},
   "outputs": [],
   "source": [
    "# save to a file\n",
    "pisa_clean.to_csv(\"pisa2012_clean.csv\", index=False, encoding='latin-1')"
   ]
  }
 ],
 "metadata": {
  "kernelspec": {
   "display_name": "Python 3",
   "language": "python",
   "name": "python3"
  },
  "language_info": {
   "codemirror_mode": {
    "name": "ipython",
    "version": 3
   },
   "file_extension": ".py",
   "mimetype": "text/x-python",
   "name": "python",
   "nbconvert_exporter": "python",
   "pygments_lexer": "ipython3",
   "version": "3.6.9"
  }
 },
 "nbformat": 4,
 "nbformat_minor": 4
}
